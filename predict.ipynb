{
 "cells": [
  {
   "cell_type": "code",
   "execution_count": null,
   "metadata": {
    "collapsed": true
   },
   "outputs": [],
   "source": [
    "from mxnet import image\n",
    "from mxnet import nd\n",
    "import matplotlib.pyplot as plt\n",
    "import cv2\n",
    "import utils\n",
    "import net as net_collection\n",
    "import numpy as np"
   ]
  },
  {
   "cell_type": "code",
   "execution_count": null,
   "metadata": {
    "collapsed": true
   },
   "outputs": [],
   "source": [
    "image_size = 32"
   ]
  },
  {
   "cell_type": "code",
   "execution_count": null,
   "metadata": {
    "collapsed": true
   },
   "outputs": [],
   "source": [
    "def transform_test(data, label):\n",
    "    im = data.astype('float32') / 255\n",
    "    auglist = image.CreateAugmenter(data_shape=(3, 32, 32),\n",
    "                        mean=np.array([0.4914, 0.4822, 0.4465]),\n",
    "                        std=np.array([0.2023, 0.1994, 0.2010]))\n",
    "    for aug in auglist:\n",
    "        im = aug(im)\n",
    "    im = nd.transpose(im, (2,0,1))\n",
    "    return (im, nd.array([label]).asscalar().astype('float32'))\n"
   ]
  },
  {
   "cell_type": "code",
   "execution_count": null,
   "metadata": {
    "collapsed": true
   },
   "outputs": [],
   "source": [
    "def get_label(label_path):\n",
    "    label = {}\n",
    "    with open(label_path) as t:\n",
    "        t_lines = t.readlines()\n",
    "        for line in t_lines:\n",
    "            params = line.split()\n",
    "            label[params[0]] = params[1]\n",
    "    return label"
   ]
  },
  {
   "cell_type": "code",
   "execution_count": null,
   "metadata": {
    "collapsed": true
   },
   "outputs": [],
   "source": [
    "def predict_mxnet(net, ctx, fname, label):\n",
    "    with open(fname, 'rb') as f:\n",
    "        img = image.imdecode(f.read())\n",
    "        img = image.ForceResizeAug((image_size, image_size))(img)\n",
    "    data, _ = transform_test(img, -1)\n",
    "    data = data.expand_dims(axis=0)\n",
    "    out = net(data.as_in_context(ctx))\n",
    "    out = nd.SoftmaxActivation(out)\n",
    "    pred = int(nd.argmax(out, axis=1).asscalar())\n",
    "    prob = out[0][pred].asscalar()\n",
    "    return '置信度=%f, 类别 %s' % (prob, label[str(pred)])"
   ]
  },
  {
   "cell_type": "code",
   "execution_count": null,
   "metadata": {
    "collapsed": true
   },
   "outputs": [],
   "source": [
    "if __name__ == '__main__':\n",
    "    label_path = '/data/datasets/cifar-10/label.txt'\n",
    "    image_path = '/data/datasets/cifar-10/test/9/9_11.jpg'\n",
    "    label_dict = get_label(label_path)\n",
    "    print(label_dict)\n",
    "    ctx = utils.try_gpu()\n",
    "    net2 = net_collection.resnet18(10)\n",
    "    net2.hybridize()\n",
    "    net2.load_params('models/11_0.87632_0.89242.params', ctx=ctx)\n",
    "    print(predict_mxnet(net=net2, ctx=ctx, fname=image_path, label=label_dict))\n",
    "    plt.imshow(plt.imread(image_path))\n",
    "    plt.show()"
   ]
  }
 ],
 "metadata": {
  "kernelspec": {
   "display_name": "Python 3",
   "language": "python",
   "name": "python3"
  },
  "language_info": {
   "codemirror_mode": {
    "name": "ipython",
    "version": 3
   },
   "file_extension": ".py",
   "mimetype": "text/x-python",
   "name": "python",
   "nbconvert_exporter": "python",
   "pygments_lexer": "ipython3",
   "version": "3.6.3"
  }
 },
 "nbformat": 4,
 "nbformat_minor": 2
}
